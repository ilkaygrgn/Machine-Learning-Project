{
 "cells": [
  {
   "cell_type": "code",
   "execution_count": null,
   "id": "60930d7f",
   "metadata": {},
   "outputs": [],
   "source": [
    "import os\n",
    "import glob\n",
    "import pandas as pd\n",
    "import xml.etree.ElementTree as ET\n",
    "\n",
    "\n",
    "def recalculate(valtocalculate):\n",
    "    calculatedval = valtocalculate*(0.7111111)\n",
    "    calculatedval = round(calculatedval,0)\n",
    "    print(calculatedval)\n",
    "    return calculatedval\n",
    "    \n",
    "    \n",
    "cur_path = os.getcwd()\n",
    "path = os.path.join(cur_path,'dataset','xml_files')\n",
    "csv_list = []\n",
    "column_name = ['test', 'path', 'class', 'xmin', 'ymin', 'commas1', 'xmax', 'ymax', 'commas2']\n",
    "three_commas = ',,'\n",
    "two_commas = ','\n",
    "\n",
    "for xml_file in glob.glob(path + '/*.xml'):\n",
    "    tree = ET.parse(xml_file)\n",
    "    root = tree.getroot()\n",
    "    print('test')\n",
    "    for member in root.findall('object'):\n",
    "        value = ('TRAIN',\n",
    "                 root.find('file').text,\n",
    "                 member[0].text,\n",
    "                 int(recalculate(int(member[5][0].text)))\n",
    "                 int(recalculate(int(member[5][1].text)))\n",
    "                 three_commas,\n",
    "                 int(recalculate(int(member[5][2].text)))\n",
    "                 int(recalculate(int(member[5][3].text)))\n",
    "                 two_commas\n",
    "                )\n",
    "        csv_list.append(value)\n",
    "        print(value)\n",
    "csv_df = pd.DataFrame(csv_list, columns=column_name)\n",
    "csv_df.to_csv('dataset/train_labels.csv', index=None)\n",
    "            "
   ]
  }
 ],
 "metadata": {
  "kernelspec": {
   "display_name": "Python 3.9 (tensorflow)",
   "language": "python",
   "name": "tensorflow"
  },
  "language_info": {
   "codemirror_mode": {
    "name": "ipython",
    "version": 3
   },
   "file_extension": ".py",
   "mimetype": "text/x-python",
   "name": "python",
   "nbconvert_exporter": "python",
   "pygments_lexer": "ipython3",
   "version": "3.9.7"
  }
 },
 "nbformat": 4,
 "nbformat_minor": 5
}
