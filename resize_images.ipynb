{
 "cells": [
  {
   "cell_type": "code",
   "execution_count": null,
   "id": "e56b4434",
   "metadata": {
    "scrolled": true
   },
   "outputs": [],
   "source": [
    "import glob\n",
    "from PIL import Image\n",
    "import os\n",
    "\n",
    "cur_path = os.getcwd()\n",
    "path = os.path.join(cur_path,'dataset','test')\n",
    "\n",
    "for img_file in glob.glob(path + '/*.jpg'):\n",
    "    image = Image.open(img_file)\n",
    "    print(image.size)\n",
    "    image.thumbnail((1024, 1024))\n",
    "    print(image.size)\n",
    "    image.save(img_file)\n",
    "\n",
    "    "
   ]
  }
 ],
 "metadata": {
  "kernelspec": {
   "display_name": "Python 3.9 (tensorflow)",
   "language": "python",
   "name": "tensorflow"
  },
  "language_info": {
   "codemirror_mode": {
    "name": "ipython",
    "version": 3
   },
   "file_extension": ".py",
   "mimetype": "text/x-python",
   "name": "python",
   "nbconvert_exporter": "python",
   "pygments_lexer": "ipython3",
   "version": "3.9.7"
  }
 },
 "nbformat": 4,
 "nbformat_minor": 5
}
